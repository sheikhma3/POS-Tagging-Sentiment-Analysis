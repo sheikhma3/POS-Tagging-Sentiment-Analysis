{
 "cells": [
  {
   "cell_type": "code",
   "execution_count": 1,
   "metadata": {
    "collapsed": true
   },
   "outputs": [],
   "source": [
    "from textblob import TextBlob"
   ]
  },
  {
   "cell_type": "code",
   "execution_count": 2,
   "metadata": {
    "collapsed": true
   },
   "outputs": [],
   "source": [
    "text = '''\n",
    "I love pizza. I am going to take some pictures. its screen is not good. this battery is good. I am sure about its quality. Mic is very bad. I dont like its screen\n",
    "'''"
   ]
  },
  {
   "cell_type": "code",
   "execution_count": 4,
   "metadata": {
    "scrolled": true
   },
   "outputs": [
    {
     "data": {
      "text/plain": [
       "[['Mic', 'NNP']]"
      ]
     },
     "execution_count": 4,
     "metadata": {},
     "output_type": "execute_result"
    }
   ],
   "source": [
    "blob = TextBlob(text)\n",
    "\n",
    "#print(blob.correct())\n",
    "\n",
    "tags=blob.tags\n",
    "NNPlist=[]\n",
    "for idx, val in tags:\n",
    "    if val=='NNP':\n",
    "        NNPlist.append([idx,val])\n",
    "#NNPlist=set(NNPlist)\n",
    "NNPlist\n",
    "new_list = []\n",
    "NNP_set = set()\n",
    "\n",
    "for item in NNPlist:\n",
    "    if item[0] not in NNP_set:\n",
    "        NNP_set.add(item[0])\n",
    "        new_list.append(item)\n",
    "    else:\n",
    "        pass\n",
    "new_list"
   ]
  },
  {
   "cell_type": "code",
   "execution_count": 5,
   "metadata": {
    "scrolled": true
   },
   "outputs": [
    {
     "data": {
      "text/plain": [
       "[['pizza', 'NN'],\n",
       " ['screen', 'NN'],\n",
       " ['battery', 'NN'],\n",
       " ['quality', 'NN'],\n",
       " ['Mic', 'NNP'],\n",
       " ['screen', 'NN']]"
      ]
     },
     "execution_count": 5,
     "metadata": {},
     "output_type": "execute_result"
    }
   ],
   "source": [
    "tags=blob.tags\n",
    "NNPlist=[]\n",
    "for idx, val in tags:\n",
    "    if val=='NN' or val=='NNP':\n",
    "        NNPlist.append([idx,val])\n",
    "#NNPlist=set(NNPlist)\n",
    "NNPlist"
   ]
  },
  {
   "cell_type": "code",
   "execution_count": 17,
   "metadata": {},
   "outputs": [
    {
     "name": "stdout",
     "output_type": "stream",
     "text": [
      "\n",
      "I love pizza.\n",
      "Sentiment Score:  0.5\n",
      "Positive Sentiment\n",
      "I am going to take some pictures.\n",
      "Sentiment Score:  0.0\n",
      "Neutral Sentiment\n",
      "its screen is not good.\n",
      "Sentiment Score:  -0.35\n",
      "Negative Sentiment\n",
      "this battery is good.\n",
      "Sentiment Score:  0.7\n",
      "Positive Sentiment\n",
      "I am sure about its quality.\n",
      "Sentiment Score:  0.5\n",
      "Positive Sentiment\n",
      "Mic is very bad.\n",
      "Sentiment Score:  -0.9099999999999998\n",
      "Negative Sentiment\n",
      "I dont like its screen\n",
      "Sentiment Score:  0.0\n",
      "Neutral Sentiment\n"
     ]
    }
   ],
   "source": [
    "for sentence in blob.sentences:\n",
    "    print(sentence)\n",
    "    print(\"Sentiment Score: \",sentence.sentiment.polarity)\n",
    "    print(\"Positive Sentiment\" if sentence.sentiment.polarity>0 else \"Negative Sentiment\" if sentence.sentiment.polarity<0 else \"Neutral Sentiment\")\n"
   ]
  },
  {
   "cell_type": "code",
   "execution_count": 8,
   "metadata": {
    "scrolled": true
   },
   "outputs": [
    {
     "data": {
      "text/plain": [
       "[('I', 'PRP'),\n",
       " ('love', 'VBP'),\n",
       " ('pizza', 'NN'),\n",
       " ('I', 'PRP'),\n",
       " ('am', 'VBP'),\n",
       " ('going', 'VBG'),\n",
       " ('to', 'TO'),\n",
       " ('take', 'VB'),\n",
       " ('some', 'DT'),\n",
       " ('pictures', 'NNS'),\n",
       " ('its', 'PRP$'),\n",
       " ('screen', 'NN'),\n",
       " ('is', 'VBZ'),\n",
       " ('not', 'RB'),\n",
       " ('good', 'JJ'),\n",
       " ('this', 'DT'),\n",
       " ('battery', 'NN'),\n",
       " ('is', 'VBZ'),\n",
       " ('good', 'JJ'),\n",
       " ('I', 'PRP'),\n",
       " ('am', 'VBP'),\n",
       " ('sure', 'JJ'),\n",
       " ('about', 'IN'),\n",
       " ('its', 'PRP$'),\n",
       " ('quality', 'NN'),\n",
       " ('Mic', 'NNP'),\n",
       " ('is', 'VBZ'),\n",
       " ('very', 'RB'),\n",
       " ('bad', 'JJ'),\n",
       " ('I', 'PRP'),\n",
       " ('dont', 'VBP'),\n",
       " ('like', 'IN'),\n",
       " ('its', 'PRP$'),\n",
       " ('screen', 'NN')]"
      ]
     },
     "execution_count": 8,
     "metadata": {},
     "output_type": "execute_result"
    }
   ],
   "source": [
    "blob.tags"
   ]
  }
 ],
 "metadata": {
  "kernelspec": {
   "display_name": "Python 3",
   "language": "python",
   "name": "python3"
  },
  "language_info": {
   "codemirror_mode": {
    "name": "ipython",
    "version": 3
   },
   "file_extension": ".py",
   "mimetype": "text/x-python",
   "name": "python",
   "nbconvert_exporter": "python",
   "pygments_lexer": "ipython3",
   "version": "3.6.8"
  }
 },
 "nbformat": 4,
 "nbformat_minor": 2
}
